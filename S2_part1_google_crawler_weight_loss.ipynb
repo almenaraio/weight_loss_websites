{
 "cells": [
  {
   "cell_type": "raw",
   "metadata": {},
   "source": [
    "Uncovering the top non-sponsored weight loss websites on Google: A data mining approach\n",
    "\n",
    "Part 1 - Scraping Google search results\n",
    "\n",
    "Authors: Carlos A. Almenara (https://almenara.io) & Hayriye Gulec\n",
    "\n",
    "Date: April 2021"
   ]
  },
  {
   "cell_type": "code",
   "execution_count": 1,
   "metadata": {},
   "outputs": [],
   "source": [
    "import os\n",
    "import time\n",
    "import pandas as pd\n",
    "import json\n",
    "from serpapi import GoogleSearch # serpAPI documentation: https://serpapi.com/search-api"
   ]
  },
  {
   "cell_type": "code",
   "execution_count": 2,
   "metadata": {},
   "outputs": [],
   "source": [
    "# Set working directory\n",
    "os.chdir('/home/user/google_weight_loss')"
   ]
  },
  {
   "cell_type": "code",
   "execution_count": 3,
   "metadata": {},
   "outputs": [],
   "source": [
    "# Load serpAPI key:\n",
    "with open('serp_api_key', 'rb') as f:\n",
    "    api_key = f.readline().rstrip()\n",
    "    f.close"
   ]
  },
  {
   "cell_type": "code",
   "execution_count": 4,
   "metadata": {},
   "outputs": [
    {
     "data": {
      "text/html": [
       "<div>\n",
       "<style scoped>\n",
       "    .dataframe tbody tr th:only-of-type {\n",
       "        vertical-align: middle;\n",
       "    }\n",
       "\n",
       "    .dataframe tbody tr th {\n",
       "        vertical-align: top;\n",
       "    }\n",
       "\n",
       "    .dataframe thead th {\n",
       "        text-align: right;\n",
       "    }\n",
       "</style>\n",
       "<table border=\"1\" class=\"dataframe\">\n",
       "  <thead>\n",
       "    <tr style=\"text-align: right;\">\n",
       "      <th></th>\n",
       "      <th>type</th>\n",
       "      <th>modifier</th>\n",
       "      <th>question</th>\n",
       "    </tr>\n",
       "    <tr>\n",
       "      <th>id</th>\n",
       "      <th></th>\n",
       "      <th></th>\n",
       "      <th></th>\n",
       "    </tr>\n",
       "  </thead>\n",
       "  <tbody>\n",
       "    <tr>\n",
       "      <th>1</th>\n",
       "      <td>questions</td>\n",
       "      <td>Are</td>\n",
       "      <td>are weight loss pills good</td>\n",
       "    </tr>\n",
       "    <tr>\n",
       "      <th>2</th>\n",
       "      <td>questions</td>\n",
       "      <td>Are</td>\n",
       "      <td>are weight loss patches safe</td>\n",
       "    </tr>\n",
       "    <tr>\n",
       "      <th>3</th>\n",
       "      <td>questions</td>\n",
       "      <td>Are</td>\n",
       "      <td>are weight loss clinics worth it</td>\n",
       "    </tr>\n",
       "    <tr>\n",
       "      <th>4</th>\n",
       "      <td>questions</td>\n",
       "      <td>Are</td>\n",
       "      <td>are weight loss programs covered by insurance</td>\n",
       "    </tr>\n",
       "    <tr>\n",
       "      <th>5</th>\n",
       "      <td>questions</td>\n",
       "      <td>Are</td>\n",
       "      <td>are weight loss dna tests accurate</td>\n",
       "    </tr>\n",
       "  </tbody>\n",
       "</table>\n",
       "</div>"
      ],
      "text/plain": [
       "         type modifier                                       question\n",
       "id                                                                   \n",
       "1   questions      Are                     are weight loss pills good\n",
       "2   questions      Are                   are weight loss patches safe\n",
       "3   questions      Are               are weight loss clinics worth it\n",
       "4   questions      Are  are weight loss programs covered by insurance\n",
       "5   questions      Are             are weight loss dna tests accurate"
      ]
     },
     "execution_count": 4,
     "metadata": {},
     "output_type": "execute_result"
    }
   ],
   "source": [
    "# Loading the dataset of 432 queries from answersocrates.com (the column 'id' was manually added)\n",
    "with open('weightloss_queries.csv', 'rb') as w:\n",
    "    queries = pd.read_csv(w, index_col='id')\n",
    "    w.close\n",
    "queries.head()"
   ]
  },
  {
   "cell_type": "code",
   "execution_count": 5,
   "metadata": {},
   "outputs": [
    {
     "data": {
      "text/plain": [
       "432"
      ]
     },
     "execution_count": 5,
     "metadata": {},
     "output_type": "execute_result"
    }
   ],
   "source": [
    "# How many unique questions do we have\n",
    "queries['question'].nunique()"
   ]
  },
  {
   "cell_type": "code",
   "execution_count": 5,
   "metadata": {},
   "outputs": [
    {
     "name": "stdout",
     "output_type": "stream",
     "text": [
      "Finished after 2100.1502029895782 seconds.\n"
     ]
    }
   ],
   "source": [
    "# Querying and exporting each result as a JSON file\n",
    "start = time.time()\n",
    "for i in queries['question']:\n",
    "    params = {\n",
    "      \"engine\": \"google\",\n",
    "      \"api_key\": api_key,\n",
    "      \"q\": i,\n",
    "      \"location\": \"585069bfee19ad271e9bc673\", # id for United States\n",
    "      \"device\": \"desktop\",\n",
    "      \"hl\": \"en\",\n",
    "      \"gl\": \"us\",\n",
    "      \"num\": \"100\", # 0 to 99\n",
    "      \"async\": \"false\",\n",
    "      \"output\": \"json\"\n",
    "    }\n",
    "    search = GoogleSearch(params)\n",
    "    dict_results = search.get_dict()\n",
    "    file_name = i + '.txt'\n",
    "    with open(file_name, 'w') as outfile:\n",
    "        json.dump(dict_results, outfile)\n",
    "        outfile.close\n",
    "end = time.time()\n",
    "print('Finished after ' + str(end - start) + ' seconds.')"
   ]
  },
  {
   "cell_type": "code",
   "execution_count": null,
   "metadata": {},
   "outputs": [],
   "source": []
  }
 ],
 "metadata": {
  "kernelspec": {
   "display_name": "Python 3 (ipykernel)",
   "language": "python",
   "name": "python3"
  },
  "language_info": {
   "codemirror_mode": {
    "name": "ipython",
    "version": 3
   },
   "file_extension": ".py",
   "mimetype": "text/x-python",
   "name": "python",
   "nbconvert_exporter": "python",
   "pygments_lexer": "ipython3",
   "version": "3.9.12"
  }
 },
 "nbformat": 4,
 "nbformat_minor": 4
}
